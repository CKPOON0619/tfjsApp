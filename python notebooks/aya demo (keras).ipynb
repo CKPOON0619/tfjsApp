{
 "cells": [
  {
   "cell_type": "code",
   "execution_count": 1,
   "metadata": {},
   "outputs": [
    {
     "name": "stderr",
     "output_type": "stream",
     "text": [
      "Using TensorFlow backend.\n"
     ]
    }
   ],
   "source": [
    "import keras\n",
    "\n",
    "model = keras.models.Sequential()\n",
    "model.add(keras.layers.BatchNormalization(input_shape=[51]))\n",
    "model.add(keras.layers.Dense(1000, activation='sigmoid'))\n",
    "model.add(keras.layers.BatchNormalization())\n",
    "model.add(keras.layers.Dense(500, activation='relu'))\n",
    "model.add(keras.layers.BatchNormalization())\n",
    "model.add(keras.layers.Dense(100, activation='relu'))\n",
    "model.add(keras.layers.BatchNormalization())\n",
    "model.add(keras.layers.Dense(100, activation='relu'))\n",
    "model.add(keras.layers.BatchNormalization())\n",
    "model.add(keras.layers.Dense(10, activation='relu'))\n",
    "model.add(keras.layers.Dense(1, activation='sigmoid'))\n",
    "model.compile(loss='binary_crossentropy',optimizer='adam',metrics=['accuracy'])\n"
   ]
  },
  {
   "cell_type": "code",
   "execution_count": 2,
   "metadata": {},
   "outputs": [],
   "source": [
    "# load dataset\n",
    "import numpy as np\n",
    "import csv\n",
    "dataReader = csv.reader(open('./test inputs/attritionBIG.txt', newline='\\r\\n'), delimiter=',', quotechar='|',)\n",
    "header=next(dataReader)\n",
    "training_data=np.array(list(dataReader),dtype=np.float32)\n",
    "X=training_data[:,0:51]\n",
    "Y=training_data[:,51]"
   ]
  },
  {
   "cell_type": "code",
   "execution_count": 3,
   "metadata": {},
   "outputs": [
    {
     "name": "stdout",
     "output_type": "stream",
     "text": [
      "Epoch 1/5\n",
      "35772/35772 [==============================] - 14s 383us/step - loss: 0.1120 - acc: 0.9595\n",
      "Epoch 2/5\n",
      "35772/35772 [==============================] - 12s 342us/step - loss: 0.0444 - acc: 0.9844\n",
      "Epoch 3/5\n",
      "35772/35772 [==============================] - 14s 378us/step - loss: 0.0333 - acc: 0.9886\n",
      "Epoch 4/5\n",
      "35772/35772 [==============================] - 13s 369us/step - loss: 0.0237 - acc: 0.9919\n",
      "Epoch 5/5\n",
      "35772/35772 [==============================] - 13s 369us/step - loss: 0.0205 - acc: 0.9932\n"
     ]
    },
    {
     "data": {
      "text/plain": [
       "<keras.callbacks.History at 0x135c660a518>"
      ]
     },
     "execution_count": 3,
     "metadata": {},
     "output_type": "execute_result"
    }
   ],
   "source": [
    "model.fit(X, Y, epochs=5, batch_size=32)\n",
    "#loss_and_metrics = model.evaluate(x_test, y_test, batch_size=128)\n",
    "#classes = model.predict(x_test, batch_size=128)"
   ]
  },
  {
   "cell_type": "code",
   "execution_count": 4,
   "metadata": {},
   "outputs": [],
   "source": [
    "import tensorflowjs as tfjs\n",
    "tfjs.converters.save_keras_model(model, './test inputs/kerasModel')"
   ]
  },
  {
   "cell_type": "code",
   "execution_count": null,
   "metadata": {},
   "outputs": [],
   "source": []
  }
 ],
 "metadata": {
  "kernelspec": {
   "display_name": "Python 3",
   "language": "python",
   "name": "python3"
  },
  "language_info": {
   "codemirror_mode": {
    "name": "ipython",
    "version": 3
   },
   "file_extension": ".py",
   "mimetype": "text/x-python",
   "name": "python",
   "nbconvert_exporter": "python",
   "pygments_lexer": "ipython3",
   "version": "3.6.5"
  }
 },
 "nbformat": 4,
 "nbformat_minor": 2
}
